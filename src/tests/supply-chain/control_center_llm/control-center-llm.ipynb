{
 "cells": [
  {
   "cell_type": "markdown",
   "source": [
    "# Supply Chain Control Center\n",
    "\n",
    "This is a prototype of a supply chain control application with a conversational interface. \n",
    "\n",
    "### Use Case\n",
    "We assume that the application has access to several tools (APIs) such as relational inventory database, demand forecasting, and shipping cost estimation services. The user specifies a task to be performed or question to be answered in natural language, and the application writes a python script that calls the APIs, processes the fetched data, and prints the solution or answer.\n",
    "\n",
    "### Prototype: Approach and Data\n",
    "The application is designed as a chain of LLM calls that starts with a high-level reasoning (planning) about the posed questions and gradually elaborate the solution until the final script is obtained. Example:\n",
    "```text\n",
    "Stage 1: Question\n",
    "What are the properties of supplier LA Shoes Inc?\n",
    "\n",
    "Stage 2: Logic\n",
    "1. Invoke search_documents passing the question \"What are the properties of supplier LA Shoes Inc?\" as an argument.\n",
    "2. Print the result returned by the searcher using the print_answer function.\n",
    "\n",
    "Stage 3: Python script\n",
    "# Delegate the question to the document searcher\n",
    "supplier_properties = search_documents(\"What are the properties of supplier LA Shoes Inc?\")\n",
    "# Generate the final answer\n",
    "print_answer(supplier_properties)\n",
    "```\n",
    "\n",
    "The application is implemented using the `streamlit` and `langchain` frameworks. See [1] for more examples of how LLMs can be used in supply chain management and optimization.\n",
    "\n",
    "### Usage and Productization\n",
    "The application uses Microsoft Azure LLM APIs by default. Edit `utilities.py` to switch to a different LLM provider.\n",
    "\n",
    "1. Configure your LLM API providers, keys, and model names in `config.json` \n",
    "2. To start the application, run the following command in the `control_center_llm` folder:\n",
    "    ```bash\n",
    "    python -m streamlit run sc_control_center_app.py\n",
    "    ```\n",
    "3. Once the application started, open the URL logged in the terminal in your browser\n",
    "\n",
    "```text\n",
    "Example questions:\n",
    "- What will be the demand for SKU 11001 in each location for each of next 5 weeks?\n",
    "- Do we expect shortages of SKU 11001 in any locations over next 10 weeks?\n",
    "```\n",
    "\n",
    "### References\n",
    "[1] Beibin Li, Konstantina Mellou, Bo Zhang, Jeevan Pathuri, Ishai Menache -- Large Language Models for Supply Chain Optimization, 2023"
   ],
   "metadata": {
    "collapsed": false
   },
   "id": "93d8cca5f9c9d4fc"
  },
  {
   "cell_type": "code",
   "execution_count": null,
   "outputs": [],
   "source": [],
   "metadata": {
    "collapsed": false
   },
   "id": "a9cb284929702928"
  }
 ],
 "metadata": {
  "kernelspec": {
   "display_name": "Python 3",
   "language": "python",
   "name": "python3"
  },
  "language_info": {
   "codemirror_mode": {
    "name": "ipython",
    "version": 2
   },
   "file_extension": ".py",
   "mimetype": "text/x-python",
   "name": "python",
   "nbconvert_exporter": "python",
   "pygments_lexer": "ipython2",
   "version": "2.7.6"
  }
 },
 "nbformat": 4,
 "nbformat_minor": 5
}
