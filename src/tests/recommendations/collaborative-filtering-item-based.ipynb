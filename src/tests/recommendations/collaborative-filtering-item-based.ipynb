{
 "cells": [
  {
   "cell_type": "markdown",
   "metadata": {},
   "source": [
    "# Nearest Neighbor Item-based Collaborative Filtering\n",
    "\n",
    "This notebook is a toy implementation of the classic collaborative filtering algorithm. The purpose of this implementation is to provide a small and clear numerical example.\n",
    "\n",
    "### Use Case\n",
    "We have a fixed number of users and items (products). For some user-item pairs we know the interaction score (e.g. user rating). No additional user or item features or score metadata (e.g. time stamps) are available. Our goal is to estimate the scores for the remaining user-item pairs. \n",
    "\n",
    "### Prototype: Approach and Data\n",
    "We use a standard Nearest Neighbor Item-based Collaborative Filtering algorithm. We use a small rating matrix defined inline for the demonstration purposes. No external datasets are used.\n",
    "\n",
    "### Usage and Productization\n",
    "This prototype is intended only for educational purposes. Prototyping using real-world data samples and production solution should use more scalable implementations."
   ]
  },
  {
   "cell_type": "code",
   "execution_count": 2,
   "metadata": {},
   "outputs": [],
   "source": [
    "import numpy as np"
   ]
  },
  {
   "cell_type": "code",
   "execution_count": 3,
   "metadata": {},
   "outputs": [],
   "source": [
    "# Input rating matrix\n",
    "# X stands for unknown ratings\n",
    "X = np.nan\n",
    "R = np.array([\n",
    "    [5, 4, X, 1, 2, 1], #  \n",
    "    [4, X, 3, 1, 1, 2], #\n",
    "    [X, 5, 5, X, 3, 3], # users\n",
    "    [2, X, 1, 4, 5, 4], # \n",
    "    [2, 2, 2, X, 4, X], #\n",
    "    [1, 2, 1, X, 5, 4]  #\n",
    "   #       items \n",
    "])"
   ]
  },
  {
   "cell_type": "code",
   "execution_count": 4,
   "metadata": {},
   "outputs": [],
   "source": [
    "# Define common variables and helper functions\n",
    "n, m = R.shape\n",
    "\n",
    "def known(r):\n",
    "    return not np.isnan(r)\n",
    "\n",
    "def known_item_ratings(R, i):\n",
    "    return [r for r in R[:,i] if known(r)]\n",
    "\n",
    "def item_common_ratings(R, i, j):\n",
    "    return np.array(list(filter(\n",
    "        lambda r: all(known(val) for val in r), \n",
    "        np.column_stack((R[:,i], R[:,j]))\n",
    "    )))\n",
    "\n",
    "def mean_r(R, i):\n",
    "    return np.mean(known_item_ratings(R, i))"
   ]
  },
  {
   "cell_type": "code",
   "execution_count": 5,
   "metadata": {},
   "outputs": [],
   "source": [
    "# Calculate the matrix of item similarities\n",
    "def similarity(R, i, j):\n",
    "    U_ij = item_common_ratings(R, i, j)\n",
    "    mu_i = mean_r(R, i)\n",
    "    mu_j = mean_r(R, j)\n",
    "    return sum([ \n",
    "          ((U_ij[u,0] - mu_i)*(U_ij[u,1] - mu_j)) / \n",
    "          (np.linalg.norm(U_ij[:,0] - mu_i) * np.linalg.norm(U_ij[:,1] - mu_j)) \n",
    "          for u in range(U_ij.shape[0])])\n",
    "\n",
    "item_similarity = np.array([[\n",
    "    similarity(R, i, j)\n",
    "    for i in range(m)] for j in range(m)])"
   ]
  },
  {
   "cell_type": "code",
   "execution_count": 6,
   "metadata": {},
   "outputs": [
    {
     "name": "stdout",
     "output_type": "stream",
     "text": [
      "user 0, item 2 <- item neighbors [1, 0]\n",
      "user 1, item 1 <- item neighbors [2, 0]\n",
      "user 2, item 0 <- item neighbors [2, 1]\n",
      "user 2, item 3 <- item neighbors [4, 5]\n",
      "user 3, item 1 <- item neighbors [2, 0]\n",
      "user 4, item 3 <- item neighbors [4, 0]\n",
      "user 4, item 5 <- item neighbors [4, 1]\n",
      "user 5, item 3 <- item neighbors [4, 5]\n",
      "\n",
      "Complete rating matrix:\n",
      "[[5.   4.   4.5  1.   2.   1.  ]\n",
      " [4.   3.49 3.   1.   1.   2.  ]\n",
      " [5.   5.   5.   3.   3.   3.  ]\n",
      " [2.   1.49 1.   4.   5.   4.  ]\n",
      " [2.   2.   2.   1.23 4.   1.81]\n",
      " [1.   2.   1.   4.51 5.   4.  ]]\n"
     ]
    }
   ],
   "source": [
    "# Predict ratings based on the item similarities\n",
    "k = 2 # neighborhood size\n",
    "\n",
    "def predict_rating(R, u, i):\n",
    "    # neighbors sorted by similarity\n",
    "    all_neighbors = np.argsort(item_similarity[i])[::-1]\n",
    "    \n",
    "    # remove neighbors without ratings for u and select top k\n",
    "    neighbors = list(filter(lambda j: known(R[u,j]) and not i==j, all_neighbors))[:k] \n",
    "    score = 0 \n",
    "    norm = 0\n",
    "    print(\"user %s, item %s <- item neighbors %s\" % (u, i, neighbors))\n",
    "    for j in neighbors:\n",
    "        score = score + item_similarity[i,j]*R[u,j]\n",
    "        norm = norm + abs(item_similarity[i,j])\n",
    "    return score/norm\n",
    "\n",
    "ratings = np.array([[ R[u,i] if known(R[u,i]) else predict_rating(R, u, i)\n",
    "   for i in range(m)] for u in range(n)])\n",
    "\n",
    "print(\"\\nComplete rating matrix:\")\n",
    "np.set_printoptions(precision=2)\n",
    "print(ratings)"
   ]
  }
 ],
 "metadata": {
  "kernelspec": {
   "display_name": "Python 3 (ipykernel)",
   "language": "python",
   "name": "python3"
  },
  "language_info": {
   "codemirror_mode": {
    "name": "ipython",
    "version": 3
   },
   "file_extension": ".py",
   "mimetype": "text/x-python",
   "name": "python",
   "nbconvert_exporter": "python",
   "pygments_lexer": "ipython3",
   "version": "3.10.2"
  }
 },
 "nbformat": 4,
 "nbformat_minor": 4
}
