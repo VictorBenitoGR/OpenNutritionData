{
 "cells": [
  {
   "cell_type": "markdown",
   "metadata": {},
   "source": [
    "# Nearest Neighbor Used-based Collaborative Filtering\n",
    "\n",
    "This notebook is a toy implementation of the classic collaborative filtering algorithm. The purpose of this implementation is to provide a small and clear numerical example.\n",
    "\n",
    "### Use Case\n",
    "We have a fixed number of users and items (products). For some user-item pairs we know the interaction score (e.g. user rating). No additional user or item features or score metadata (e.g. time stamps) are available. Our goal is to estimate the scores for the remaining user-item pairs. \n",
    "\n",
    "### Prototype: Approach and Data\n",
    "We use a standard Nearest Neighbor User-based Collaborative Filtering algorithm. We use a small rating matrix defined inline for the demonstration purposes. No external datasets are used.\n",
    "\n",
    "### Usage and Productization\n",
    "This prototype is intended only for educational purposes. Prototyping using real-world data samples and production solution should use more scalable implementations."
   ]
  },
  {
   "cell_type": "code",
   "execution_count": 1,
   "metadata": {},
   "outputs": [],
   "source": [
    "import numpy as np"
   ]
  },
  {
   "cell_type": "code",
   "execution_count": 2,
   "metadata": {},
   "outputs": [],
   "source": [
    "# Input rating matrix\n",
    "# X stands for unknown ratings\n",
    "X = np.nan\n",
    "R = np.array([\n",
    "    [5, 4, X, 1, 2, 1], #  \n",
    "    [4, X, 3, 1, 1, 2], #\n",
    "    [X, 5, 5, X, 3, 3], # users\n",
    "    [2, X, 1, 4, 5, 4], # \n",
    "    [2, 2, 2, X, 4, X], #\n",
    "    [1, 2, 1, X, 5, 4]  #\n",
    "   #       items \n",
    "])"
   ]
  },
  {
   "cell_type": "code",
   "execution_count": 3,
   "metadata": {},
   "outputs": [],
   "source": [
    "# Define common variables and helper functions\n",
    "n, m = R.shape\n",
    "\n",
    "def known(r):\n",
    "    return not np.isnan(r)\n",
    "\n",
    "def known_user_ratings(R, u):\n",
    "    return [r for r in R[u, :] if known(r)]\n",
    "\n",
    "def user_common_ratings(R, u, v):\n",
    "    return np.array(list(filter(\n",
    "        lambda r: all(known(val) for val in r), \n",
    "        np.column_stack((R[u, :], R[v, :]))\n",
    "    ))).T\n",
    "\n",
    "def mean_r(R, u):\n",
    "    return np.mean(known_user_ratings(R, u))"
   ]
  },
  {
   "cell_type": "code",
   "execution_count": 4,
   "metadata": {},
   "outputs": [],
   "source": [
    "# Calculate the matrix of user similarities\n",
    "def similarity(R, u, v):\n",
    "    I_uv = user_common_ratings(R, u, v)\n",
    "    mu_u = mean_r(R, u)\n",
    "    mu_v = mean_r(R, v)\n",
    "    return sum([ \n",
    "          ((I_uv[0, i] - mu_u)*(I_uv[1, i] - mu_v)) / \n",
    "          (np.linalg.norm(I_uv[0, :] - mu_u) * np.linalg.norm(I_uv[1, :] - mu_v)) \n",
    "          for i in range(I_uv.shape[1])])\n",
    "\n",
    "user_similarity = np.array([[\n",
    "    similarity(R, u, v)\n",
    "    for u in range(n)] for v in range(n)])"
   ]
  },
  {
   "cell_type": "code",
   "execution_count": 5,
   "metadata": {},
   "outputs": [
    {
     "name": "stdout",
     "output_type": "stream",
     "text": [
      "[[ 1.          0.87489889  0.94087507 -0.79660185 -0.5939994  -0.78571429]\n",
      " [ 0.87489889  1.          0.87235674 -0.84016805 -0.81047483 -0.88236074]\n",
      " [ 0.94087507  0.87235674  1.         -0.93847426 -0.87038828 -0.91970901]\n",
      " [-0.79660185 -0.84016805 -0.93847426  1.          0.85993942  0.95257577]\n",
      " [-0.5939994  -0.81047483 -0.87038828  0.85993942  1.          0.94715031]\n",
      " [-0.78571429 -0.88236074 -0.91970901  0.95257577  0.94715031  1.        ]]\n"
     ]
    }
   ],
   "source": [
    "print(user_similarity)"
   ]
  },
  {
   "cell_type": "code",
   "execution_count": 6,
   "metadata": {},
   "outputs": [
    {
     "name": "stdout",
     "output_type": "stream",
     "text": [
      "user 0, item 2 <- user neighbors [2, 1]\n",
      "user 1, item 1 <- user neighbors [0, 2]\n",
      "user 2, item 0 <- user neighbors [0, 1]\n",
      "user 2, item 3 <- user neighbors [0, 1]\n",
      "user 3, item 1 <- user neighbors [5, 4]\n",
      "user 4, item 3 <- user neighbors [3, 0]\n",
      "user 4, item 5 <- user neighbors [5, 3]\n",
      "user 5, item 3 <- user neighbors [3, 0]\n",
      "\n",
      "Complete rating matrix:\n",
      "[[5.   4.   3.5  1.   2.   1.  ]\n",
      " [4.   3.4  3.   1.   1.   2.  ]\n",
      " [6.11 5.   5.   2.59 3.   3.  ]\n",
      " [2.   2.65 1.   4.   5.   4.  ]\n",
      " [2.   2.   2.   3.63 4.   3.61]\n",
      " [1.   2.   1.   3.76 5.   4.  ]]\n"
     ]
    }
   ],
   "source": [
    "# Predict ratings based on the user similarities\n",
    "k = 2 # neighborhood size\n",
    "\n",
    "def predict_rating(R, u, i):\n",
    "    # neighbors sorted by similarity\n",
    "    all_neighbors = np.argsort(user_similarity[u])[::-1]\n",
    "    \n",
    "    # remove neighbors without ratings for i and select top k\n",
    "    neighbors = list(filter(lambda v: known(R[v,i]) and not v==u, all_neighbors))[:k] \n",
    "    mu_u = mean_r(R, u)\n",
    "    score = 0 \n",
    "    norm = 0\n",
    "    print(\"user %s, item %s <- user neighbors %s\" % (u, i, neighbors))\n",
    "    for v in neighbors:\n",
    "        mu_v = mean_r(R, v)\n",
    "        score = score + user_similarity[u,v]*(R[v,i] - mu_v)\n",
    "        norm = norm + abs(user_similarity[u,v])\n",
    "    return mu_u + score/norm\n",
    "\n",
    "ratings = np.array([[ R[u,i] if known(R[u,i]) else predict_rating(R, u, i)\n",
    "   for i in range(m)] for u in range(n)])\n",
    "\n",
    "print(\"\\nComplete rating matrix:\")\n",
    "np.set_printoptions(precision=2)\n",
    "print(ratings)"
   ]
  }
 ],
 "metadata": {
  "kernelspec": {
   "display_name": "Python 3 (ipykernel)",
   "language": "python",
   "name": "python3"
  },
  "language_info": {
   "codemirror_mode": {
    "name": "ipython",
    "version": 3
   },
   "file_extension": ".py",
   "mimetype": "text/x-python",
   "name": "python",
   "nbconvert_exporter": "python",
   "pygments_lexer": "ipython3",
   "version": "3.10.2"
  }
 },
 "nbformat": 4,
 "nbformat_minor": 4
}
